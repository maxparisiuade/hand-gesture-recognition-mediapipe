{
  "cells": [
    {
      "cell_type": "markdown",
      "metadata": {
        "id": "h2q27gKz1H20"
      },
      "source": [
        "##### Copyright 2023 The MediaPipe Authors. All Rights Reserved."
      ]
    },
    {
      "cell_type": "code",
      "execution_count": 3,
      "metadata": {
        "cellView": "form",
        "id": "TUfAcER1oUS6"
      },
      "outputs": [],
      "source": [
        "#@title Licensed under the Apache License, Version 2.0 (the \"License\");\n",
        "# you may not use this file except in compliance with the License.\n",
        "# You may obtain a copy of the License at\n",
        "#\n",
        "# https://www.apache.org/licenses/LICENSE-2.0\n",
        "#\n",
        "# Unless required by applicable law or agreed to in writing, software\n",
        "# distributed under the License is distributed on an \"AS IS\" BASIS,\n",
        "# WITHOUT WARRANTIES OR CONDITIONS OF ANY KIND, either express or implied.\n",
        "# See the License for the specific language governing permissions and\n",
        "# limitations under the License."
      ]
    },
    {
      "cell_type": "markdown",
      "metadata": {
        "id": "L_cQX8dWu4Dv"
      },
      "source": [
        "# Face Detection with MediaPipe Tasks\n",
        "\n",
        "This notebook shows you how to use the MediaPipe Tasks Python API to detect faces in images."
      ]
    },
    {
      "cell_type": "markdown",
      "metadata": {
        "id": "O6PN9FvIx614"
      },
      "source": [
        "## Preparation\n",
        "\n",
        "Let's start with installing MediaPipe."
      ]
    },
    {
      "cell_type": "markdown",
      "metadata": {
        "id": "89BlskiiyGDC"
      },
      "source": [
        "## Visualization utilities"
      ]
    },
    {
      "cell_type": "markdown",
      "metadata": {
        "id": "wLHhoIkkWYLQ"
      },
      "source": [
        "To better demonstrate the Face Detector API, we have created a set of visualization tools that will be used in this colab. These will draw a bounding box around detected faces, as well as markers over certain detected points on the faces."
      ]
    },
    {
      "cell_type": "code",
      "execution_count": 4,
      "metadata": {
        "id": "H4aPO-hvbw3r"
      },
      "outputs": [],
      "source": [
        "import time\n",
        "import cv2 as cv\n",
        "import mediapipe as mp\n",
        "import numpy as np\n",
        "mp_face_detection = mp.solutions.face_detection\n",
        "cap = cv.VideoCapture(0)\n",
        "with mp_face_detection.FaceDetection(model_selection=1, min_detection_confidence=0.5) as face_detector:\n",
        "    frame_counter = 0\n",
        "    fonts = cv.FONT_HERSHEY_PLAIN\n",
        "    start_time = time.time()\n",
        "    while True:\n",
        "        frame_counter += 1\n",
        "        ret, frame = cap.read()\n",
        "        if ret is False:\n",
        "            break\n",
        "        rgb_frame = cv.cvtColor(frame, cv.COLOR_BGR2RGB)\n",
        "\n",
        "        results = face_detector.process(rgb_frame)\n",
        "        frame_height, frame_width, c = frame.shape\n",
        "        if results.detections:\n",
        "            for face in results.detections:\n",
        "                key_points = np.array([(p.x, p.y) for p in face.location_data.relative_keypoints])\n",
        "                key_points_coords = np.multiply(key_points,[frame_width,frame_height]).astype(int)\n",
        "                for p in key_points_coords:\n",
        "                    cv.circle(frame, p, 4, (255, 255, 255), 2)\n",
        "                    cv.circle(frame, p, 2, (0, 0, 0), -1)\n",
        "        \n",
        "        fps = frame_counter / (time.time() - start_time)\n",
        "        cv.putText(frame,f\"FPS: {fps:.2f}\",(30, 30),cv.FONT_HERSHEY_DUPLEX,0.7,(0, 255, 255),2,)\n",
        "        cv.imshow(\"frame\", frame)\n",
        "        key = cv.waitKey(1)\n",
        "        if key == ord(\"q\"):\n",
        "            break\n",
        "    cap.release()\n",
        "    cv.destroyAllWindows() "
      ]
    }
  ],
  "metadata": {
    "accelerator": "GPU",
    "colab": {
      "gpuType": "T4",
      "provenance": []
    },
    "gpuClass": "standard",
    "kernelspec": {
      "display_name": "Python 3 (ipykernel)",
      "language": "python",
      "name": "python3"
    },
    "language_info": {
      "codemirror_mode": {
        "name": "ipython",
        "version": 3
      },
      "file_extension": ".py",
      "mimetype": "text/x-python",
      "name": "python",
      "nbconvert_exporter": "python",
      "pygments_lexer": "ipython3",
      "version": "3.11.8"
    }
  },
  "nbformat": 4,
  "nbformat_minor": 0
}
